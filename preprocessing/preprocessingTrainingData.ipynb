{
 "cells": [
  {
   "cell_type": "code",
   "execution_count": 1,
   "metadata": {},
   "outputs": [],
   "source": [
    "# Different methods of preprocessing training data.\n",
    "\n",
    "%matplotlib inline\n",
    "import cv2\n",
    "from pathlib import Path\n",
    "import matplotlib.pyplot as plt\n",
    "import numpy as np"
   ]
  },
  {
   "cell_type": "code",
   "execution_count": null,
   "metadata": {},
   "outputs": [],
   "source": [
    "# Load the data\n",
    "\n",
    "datasetPath = Path(\"../datasets/gtsrb/GTSRB/Final_Training/Images/\")\n",
    "labelsPathList = sorted([labelPath for labelPath in datasetPath.iterdir() if labelPath.is_dir()])\n",
    "trainingImagesPathList = [ sorted([dataPath for dataPath in labelPath.iterdir() if dataPath.suffix == \".ppm\"]) for labelPath in labelsPathList]\n",
    "\n",
    "trainingImages = []\n",
    "trainingImagesLabels = []\n",
    "\n",
    "for trainingLabelsPath in trainingImagesPathList:\n",
    "    for trainingImagePath in trainingLabelsPath:\n",
    "        img = cv2.imread(str(trainingImagePath), cv2.IMREAD_UNCHANGED)\n",
    "        trainingImages.append(img)\n",
    "        trainingImagesLabels.append(int(trainingImagePath.parts[-2]))\n",
    "        "
   ]
  },
  {
   "cell_type": "code",
   "execution_count": null,
   "metadata": {},
   "outputs": [],
   "source": [
    "X_train = np.array(trainingImages)\n",
    "y_train = np.array(trainingImagesLabels)"
   ]
  },
  {
   "cell_type": "code",
   "execution_count": null,
   "metadata": {},
   "outputs": [],
   "source": [
    "# Each directory of labels contains a GT.csv file, which has information about the bounding box of each traffic sign.\n",
    "# There will be 2 datasets:\n",
    "#    - Not cropped\n",
    "#    - Cropped by the values in GT.txt\n",
    "\n",
    "\n",
    "# We'll start with the not cropped dataset.\n",
    "\n",
    "# But before, all images need to have the same resolution.\n",
    "\n",
    "scaledImages50by50 = []\n",
    "\n",
    "for image in X_train:\n",
    "    scaledImages50by50.append(cv2.resize(image, (50, 50), interpolation = cv2.INTER_AREA))"
   ]
  },
  {
   "cell_type": "code",
   "execution_count": null,
   "metadata": {},
   "outputs": [],
   "source": [
    "scaledImages64by64 = []\n",
    "\n",
    "for image in X_train:\n",
    "    scaledImages64by64.append(cv2.resize(image, (64, 64), interpolation = cv2.INTER_AREA))"
   ]
  },
  {
   "cell_type": "code",
   "execution_count": null,
   "metadata": {},
   "outputs": [],
   "source": [
    "def writeDataset(X_train, y_train, label, pathToWrite = Path(\"preprocessingNotebookTest/\"), fileExtension = \".ppm\"):\n",
    "            \n",
    "    pathToWrite = pathToWrite / label\n",
    "    if not pathToWrite.exists() and not pathToWrite.is_dir():\n",
    "        pathToWrite.mkdir()\n",
    "    \n",
    "    for i, image in enumerate(X_train):\n",
    "        \n",
    "        fullPath = pathToWrite / (str(i) + \"_\" + str(y_train[i]) + fileExtension)\n",
    "        # EX: {pathToDirectory}/100_0.ppm\n",
    "        \n",
    "        cv2.imwrite(str(fullPath), image)"
   ]
  },
  {
   "cell_type": "code",
   "execution_count": null,
   "metadata": {},
   "outputs": [],
   "source": [
    "writeDataset(scaledImages64by64, y_train, \"64by64\")"
   ]
  },
  {
   "cell_type": "code",
   "execution_count": 20,
   "metadata": {},
   "outputs": [],
   "source": [
    "def readDataset(pathToRead):\n",
    "    \n",
    "    X_train = []\n",
    "    y_train = []\n",
    "    \n",
    "    for imagePath in pathToRead.iterdir():\n",
    "        \n",
    "        X_train.append(cv2.imread(str(imagePath), cv2.IMREAD_UNCHANGED))\n",
    "        \n",
    "        label = (imagePath.name).split(\"_\")[1].split(\".\")[0]\n",
    "        y_train.append(int(label))\n",
    "        \n",
    "    return X_train, y_train"
   ]
  },
  {
   "cell_type": "code",
   "execution_count": 21,
   "metadata": {},
   "outputs": [],
   "source": [
    "X_train, y_train = readDataset(Path(\"./preprocessingNotebookTest/50by50/\"))\n",
    "labels = []\n",
    "\n",
    "with open(\"../datasets/gtsrb/labels.txt\", \"r\") as fp:\n",
    "    lines = fp.readlines()\n",
    "    for label in lines:\n",
    "        labels.append(label.strip())"
   ]
  },
  {
   "cell_type": "code",
   "execution_count": 29,
   "metadata": {},
   "outputs": [
    {
     "name": "stdout",
     "output_type": "stream",
     "text": [
      "Passing_right\n"
     ]
    },
    {
     "data": {
      "image/png": "[encoded data removed]",
      "text/plain": [
       "<Figure size 432x288 with 1 Axes>"
      ]
     },
     "metadata": {
      "needs_background": "light"
     },
     "output_type": "display_data"
    }
   ],
   "source": [
    "randomnum = np.random.randint(len(X_train))\n",
    "plt.imshow(X_train[randomnum])\n",
    "print(labels[y_train[randomnum]])"
   ]
  },
  {
   "cell_type": "code",
   "execution_count": null,
   "metadata": {},
   "outputs": [],
   "source": [
    "# After resizing the images, let's enhance them!\n",
    "\n"
   ]
  }
 ],
 "metadata": {
  "kernelspec": {
   "display_name": "Python 3",
   "language": "python",
   "name": "python3"
  },
  "language_info": {
   "codemirror_mode": {
    "name": "ipython",
    "version": 3
   },
   "file_extension": ".py",
   "mimetype": "text/x-python",
   "name": "python",
   "nbconvert_exporter": "python",
   "pygments_lexer": "ipython3",
   "version": "3.6.9"
  }
 },
 "nbformat": 4,
 "nbformat_minor": 4
}
